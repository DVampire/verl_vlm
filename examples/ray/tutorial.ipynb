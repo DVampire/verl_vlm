{
 "cells": [
  {
   "cell_type": "markdown",
   "id": "0ddc582b",
   "metadata": {},
   "source": [
    "# VeRL Ray API Tutorial"
   ]
  },
  {
   "cell_type": "markdown",
   "id": "71fe3b94",
   "metadata": {},
   "source": [
    "## Chapter 1: Ray Basics"
   ]
  },
  {
   "cell_type": "code",
   "execution_count": 144,
   "id": "1347d381",
   "metadata": {
    "tags": []
   },
   "source": [
    "import os"
   ],
   "outputs": []
  },
  {
   "cell_type": "code",
   "execution_count": 145,
   "id": "e75b9d44",
   "metadata": {
    "tags": []
   },
   "source": [
    "import ray\n",
    "import torch\n",
    "import warnings\n",
    "warnings.filterwarnings('ignore')"
   ],
   "outputs": []
  },
  {
   "cell_type": "code",
   "execution_count": 146,
   "id": "2e90ae00",
   "metadata": {
    "tags": []
   },
   "source": [
    "# Build a local ray cluster. The head node and worker node are on this machine\n",
    "ray.init()"
   ],
   "outputs": []
  },
  {
   "cell_type": "markdown",
   "id": "a127e4e4",
   "metadata": {},
   "source": [
    "Implement an Accumulator class."
   ]
  },
  {
   "cell_type": "code",
   "execution_count": 147,
   "id": "20e7b9a3",
   "metadata": {
    "tags": []
   },
   "source": [
    "@ray.remote\n",
    "class Accumulator:\n",
    "    def __init__(self):\n",
    "        self.value = 0\n",
    "        \n",
    "    def add(self, x):\n",
    "        self.value += x\n",
    "        \n",
    "    def get_value(self):\n",
    "        return self.value"
   ],
   "outputs": []
  },
  {
   "cell_type": "code",
   "execution_count": 148,
   "id": "3b80098c",
   "metadata": {
    "tags": []
   },
   "source": [
    "# Instantiate an accumulator. Accumulator can be viewed as a process, acting as an RPC service.\n",
    "accumulator = Accumulator.remote()"
   ],
   "outputs": []
  },
  {
   "cell_type": "code",
   "execution_count": 149,
   "id": "b14b1009",
   "metadata": {
    "tags": []
   },
   "source": [
    "value_ref = accumulator.get_value.remote() # Check the current value. Note that this function returns immediately and does not actually wait for the remote execution to complete.\n",
    "# Get the value\n",
    "value = ray.get(value_ref)\n",
    "print(value)"
   ],
   "outputs": []
  },
  {
   "cell_type": "code",
   "execution_count": 150,
   "id": "513a84b3",
   "metadata": {
    "tags": []
   },
   "source": [
    "# Accumulate, then check the result.\n",
    "accumulator.add.remote(10)  # Similarly, the 'add' here will return immediately.\n",
    "new_value = ray.get(accumulator.get_value.remote())\n",
    "print(new_value)"
   ],
   "outputs": []
  },
  {
   "cell_type": "markdown",
   "id": "3c332fe0",
   "metadata": {},
   "source": [
    "## Chapter 2: Resource Pool and RayWorkerGroup\n",
    "In the previous example, it was a simple single-process worker. \n",
    "In this example, we implement a worker with a GPU and form a RayWorkerGroup. Within this RayWorkerGroup, we implement a simple operation of an accumulator."
   ]
  },
  {
   "cell_type": "code",
   "execution_count": 151,
   "id": "04229afb",
   "metadata": {
    "tags": []
   },
   "source": [
    "from verl.single_controller.ray.base import RayResourcePool, RayClassWithInitArgs, RayWorkerGroup, merge_resource_pool\n",
    "from verl.single_controller.base import Worker"
   ],
   "outputs": []
  },
  {
   "cell_type": "code",
   "execution_count": 152,
   "id": "0d0dbd58",
   "metadata": {
    "tags": []
   },
   "source": [
    "resource_pool = RayResourcePool([4], use_gpu=True)"
   ],
   "outputs": []
  },
  {
   "cell_type": "code",
   "execution_count": 153,
   "id": "68f6838a",
   "metadata": {
    "tags": []
   },
   "source": [
    "@ray.remote\n",
    "class GPUAccumulator(Worker):\n",
    "\n",
    "    def __init__(self) -> None:\n",
    "        super().__init__()\n",
    "        # The initial value of each rank is the same as the rank\n",
    "        self.value = torch.zeros(size=(1,), device='cuda') + self.rank\n",
    "\n",
    "    def add(self, x):\n",
    "        self.value += x\n",
    "        print(f'rank {self.rank}, value: {self.value}')\n",
    "        return self.value.cpu()\n"
   ],
   "outputs": []
  },
  {
   "cell_type": "code",
   "execution_count": 154,
   "id": "23aad8fe",
   "metadata": {
    "tags": []
   },
   "source": [
    "# Each worker's initial value is its rank, and then each rank's value is incremented by 1, so the values obtained on each rank are [1, 2, 3, 4]\n",
    "class_with_args = RayClassWithInitArgs(cls=GPUAccumulator)\n",
    "worker_group = RayWorkerGroup(resource_pool, class_with_args)\n",
    "print(worker_group.execute_all_sync('add', x=[1,1,1,1]))"
   ],
   "outputs": []
  },
  {
   "cell_type": "markdown",
   "id": "e6705284",
   "metadata": {},
   "source": [
    "The principle of parameter passing: The input parameter is a list of length world_size, where each element in the list is dispatched respectively to each worker in the RayWorkerGroup. \n",
    "The return parameter is also a list, corresponding to the return value of each worker."
   ]
  },
  {
   "cell_type": "markdown",
   "id": "d25c2412",
   "metadata": {},
   "source": [
    "### GPU Resource Sharing"
   ]
  },
  {
   "cell_type": "markdown",
   "id": "f74f6d24",
   "metadata": {},
   "source": [
    "RayWorkerGroups mapped to the same resource pool share the GPU. In this example, we implement three resource pools: the first occupies 4 GPUs, the second also occupies 4 GPUs, and the last occupies all 8 GPUs. Among them, the first resource pool reuses the resource pool mentioned above."
   ]
  },
  {
   "cell_type": "code",
   "execution_count": 155,
   "id": "49f9c06f",
   "metadata": {
    "tags": []
   },
   "source": [
    "# Create a new resource pool and then merge the newly created resource pool with the previous one.\n",
    "resource_pool_1 = RayResourcePool([4], use_gpu=True, name_prefix='a')\n",
    "resource_pool_merge = merge_resource_pool(resource_pool, resource_pool_1)"
   ],
   "outputs": []
  },
  {
   "cell_type": "code",
   "execution_count": 156,
   "id": "05c2e305",
   "metadata": {
    "tags": []
   },
   "source": [
    "# Establish a RayWorkerGroup on the newly created resource pool.\n",
    "worker_group_1 = RayWorkerGroup(resource_pool_1, class_with_args)\n",
    "worker_group_merge = RayWorkerGroup(resource_pool_merge, class_with_args)"
   ],
   "outputs": []
  },
  {
   "cell_type": "code",
   "execution_count": 157,
   "id": "6b9b13f4",
   "metadata": {
    "tags": []
   },
   "source": [
    "# Run 'add' on the second set of 4 GPUs; the result should be [2, 3, 4, 5].\n",
    "output_1 = worker_group_1.execute_all_sync('add', x=[2,2,2,2])\n",
    "print(output_1)"
   ],
   "outputs": []
  },
  {
   "cell_type": "code",
   "execution_count": 158,
   "id": "d856d030",
   "metadata": {
    "tags": []
   },
   "source": [
    "# Run 'add' on the merged set of 8 GPUs; the result should be [3, 4, 5, 6, 7, 8, 9, 10].\n",
    "output_merge = worker_group_merge.execute_all_sync('add', x=[3,3,3,3,3,3,3,3])\n",
    "print(output_merge)"
   ],
   "outputs": []
  },
  {
   "cell_type": "code",
   "execution_count": 159,
   "id": "33a4628c",
   "metadata": {
    "tags": []
   },
   "source": [
    "print(worker_group.world_size, worker_group_1.world_size, worker_group_merge.world_size)"
   ],
   "outputs": []
  },
  {
   "cell_type": "markdown",
   "id": "3df19d13",
   "metadata": {},
   "source": [
    "## Chapter 3: Data Dispatch, Execution and Collection"
   ]
  },
  {
   "cell_type": "markdown",
   "id": "acb22d9d",
   "metadata": {},
   "source": [
    "In the above example, we used the `execute_all_sync` function in the RayWorkerGroup to dispatch data from the driver to each worker. This is very inconvenient for coding. \n",
    "In this chapter, we use the form of function decorators to allow RayWorkerGroup to directly call functions written in the Worker, and to greatly simplify parameter passing."
   ]
  },
  {
   "cell_type": "code",
   "execution_count": 160,
   "id": "35237432",
   "metadata": {
    "tags": []
   },
   "source": [
    "from verl.single_controller.base.decorator import register, Dispatch, Execute"
   ],
   "outputs": []
  },
  {
   "cell_type": "code",
   "execution_count": 161,
   "id": "88b8ba3b",
   "metadata": {
    "tags": []
   },
   "source": [
    "@ray.remote\n",
    "class GPUAccumulatorDecorator(Worker):\n",
    "\n",
    "    def __init__(self) -> None:\n",
    "        super().__init__()\n",
    "        # The initial value of each rank is the same as the rank\n",
    "        self.value = torch.zeros(size=(1,), device='cuda') + self.rank\n",
    "    \n",
    "    # map from a single input to all the worker\n",
    "    @register(Dispatch.ONE_TO_ALL)\n",
    "    def add(self, x):\n",
    "        print(x)\n",
    "        self.value = self.value + x\n",
    "        print(f'rank {self.rank}, value: {self.value}')\n",
    "        return self.value.cpu()"
   ],
   "outputs": []
  },
  {
   "cell_type": "code",
   "execution_count": 162,
   "id": "eddaa043",
   "metadata": {
    "tags": []
   },
   "source": [
    "class_with_args = RayClassWithInitArgs(cls=GPUAccumulatorDecorator)\n",
    "gpu_accumulator_decorator = RayWorkerGroup(resource_pool_merge, class_with_args)"
   ],
   "outputs": []
  },
  {
   "cell_type": "code",
   "execution_count": 163,
   "id": "10087c91",
   "metadata": {
    "tags": []
   },
   "source": [
    "# As we can see, 10 is automatically dispatched to each Worker in this RayWorkerGroup.\n",
    "print(gpu_accumulator_decorator.add(x=10))"
   ],
   "outputs": []
  },
  {
   "cell_type": "markdown",
   "id": "540ee6ad",
   "metadata": {},
   "source": [
    "### Custom Dispatch, Collection\n",
    "Users can customize `dispatch` and `collection` function. You only need to write the `dispatch_fn` and `collect_fn` functions yourself. We also support executing RPC only on rank_zero, with specific examples provided below."
   ]
  },
  {
   "cell_type": "code",
   "execution_count": 164,
   "id": "8e041270",
   "metadata": {
    "tags": []
   },
   "source": [
    "from verl.single_controller.base.decorator import register, Dispatch, collect_all_to_all, Execute"
   ],
   "outputs": []
  },
  {
   "cell_type": "code",
   "execution_count": 165,
   "id": "43b5be31",
   "metadata": {
    "tags": []
   },
   "source": [
    "def two_to_all_dispatch_fn(worker_group, *args, **kwargs):\n",
    "    \"\"\"\n",
    "    Assume the input is a list of 2. Duplicate the input interleaved and pass to each worker.\n",
    "    \"\"\"\n",
    "    for arg in args:\n",
    "        assert len(arg) == 2\n",
    "        for i in range(worker_group.world_size - 2):\n",
    "            arg.append(arg[i % 2])\n",
    "    for k, v in kwargs.items():\n",
    "        assert len(v) == 2\n",
    "        for i in range(worker_group.world_size - 2):\n",
    "            v.append(v[i % 2])\n",
    "    return args, kwargs\n",
    "\n",
    "\n",
    "@ray.remote\n",
    "class TestActor(Worker):\n",
    "    # TODO: pass *args and **kwargs is bug prone and not very convincing\n",
    "    def __init__(self, x) -> None:\n",
    "        super().__init__()\n",
    "        self._x = x\n",
    "\n",
    "    def foo(self, y):\n",
    "        return self._x + y\n",
    "\n",
    "    @register(dispatch_mode=Dispatch.ALL_TO_ALL, execute_mode=Execute.RANK_ZERO)\n",
    "    def foo_rank_zero(self, x, y):\n",
    "        return self._x + y + x\n",
    "\n",
    "    @register(dispatch_mode={'dispatch_fn': two_to_all_dispatch_fn, 'collect_fn': collect_all_to_all})\n",
    "    def foo_custom(self, x, y):\n",
    "        return self._x + y + x"
   ],
   "outputs": []
  },
  {
   "cell_type": "code",
   "execution_count": 166,
   "id": "83ec6609",
   "metadata": {
    "tags": []
   },
   "source": [
    "class_with_args = RayClassWithInitArgs(cls=TestActor, x=2)\n",
    "worker_group = RayWorkerGroup(resource_pool, class_with_args)"
   ],
   "outputs": []
  },
  {
   "cell_type": "code",
   "execution_count": 167,
   "id": "62c58d8a",
   "metadata": {
    "tags": []
   },
   "source": [
    "output_ref = worker_group.foo_custom(x=[1, 2], y=[5, 6])\n",
    "assert output_ref == [8, 10, 8, 10]\n",
    "\n",
    "output_ref = worker_group.foo_rank_zero(x=1, y=2)\n",
    "assert output_ref == 5"
   ],
   "outputs": []
  },
  {
   "cell_type": "code",
   "execution_count": 168,
   "id": "14689353",
   "metadata": {
    "tags": []
   },
   "source": [
    "print(gpu_accumulator_decorator.world_size)"
   ],
   "outputs": []
  },
  {
   "cell_type": "code",
   "execution_count": 169,
   "id": "2c80bbf4",
   "metadata": {
    "tags": []
   },
   "source": [
    "# Shutdown ray cluster\n",
    "ray.shutdown()"
   ],
   "outputs": []
  },
  {
   "cell_type": "markdown",
   "id": "a5c8151c",
   "metadata": {},
   "source": [
    "## Chapter 4: NVMegatronRayWorkerGroup"
   ]
  },
  {
   "cell_type": "markdown",
   "id": "cd5680e9",
   "metadata": {},
   "source": [
    "Due to the Ray issue, we can only support max_colocate_count=1 in RayResourcePool for now. \n",
    "This means that each GPU can only have one process.\n",
    "We can support max_colocate > 1 when applying this pull request: https://github.com/ray-project/ray/pull/44385"
   ]
  },
  {
   "cell_type": "markdown",
   "id": "92724419",
   "metadata": {},
   "source": [
    "Therefore, we need to restart the ray and initialize a new resource_pool to demonstrate the **NVMegatronRayWorkerGroup**"
   ]
  },
  {
   "cell_type": "code",
   "execution_count": null,
   "id": "9b038538",
   "metadata": {
    "tags": []
   },
   "source": [
    "# Build a local ray cluster. The head node and worker node are on this machine\n",
    "ray.init()"
   ],
   "outputs": []
  },
  {
   "cell_type": "markdown",
   "id": "ebfd8798",
   "metadata": {},
   "source": [
    "Finally, we implement a `NVMegatronRayWorkerGroup`, within which we create a Megatron and then run a tensor parallel (tp) split Llama mlp layer. Here, we use a complex dispatch mode, `Megatron_COMPUTE`. This dispatch mode assumes that user passes the data partitioned by DP dimension. The data is dispatched to all tp/pp ranks within the same dp group, and ultimately only collects output data from tp=0 and the last pp. In this way, for users that only write code on the driver, the Megatron behind the RPC becomes transparent."
   ]
  },
  {
   "cell_type": "code",
   "execution_count": 171,
   "id": "5a032154",
   "metadata": {
    "tags": []
   },
   "source": [
    "import os\n",
    "import sys\n",
    "import site\n",
    "\n",
    "\n",
    "current_pythonpath = os.environ.get('PYTHONPATH', '')\n",
    "\n",
    "new_path = '/opt/tiger/Megatron-LM'\n",
    "\n",
    "if current_pythonpath:\n",
    "    new_pythonpath = f'{new_path}:{current_pythonpath}'\n",
    "else:\n",
    "    new_pythonpath = new_path\n",
    "\n",
    "os.environ['PYTHONPATH'] = new_pythonpath\n",
    "\n",
    "print(new_path)\n",
    "sys.path.append(new_path)\n",
    "\n",
    "import megatron\n",
    "print(megatron.__file__)"
   ],
   "outputs": []
  },
  {
   "cell_type": "code",
   "execution_count": 172,
   "id": "8c84cd5a",
   "metadata": {
    "tags": []
   },
   "source": [
    "from verl.single_controller.base.decorator import register, Dispatch, Execute\n",
    "from verl.single_controller.ray.megatron import NVMegatronRayWorkerGroup\n",
    "from verl.single_controller.base.megatron.worker import MegatronWorker\n",
    "from verl.single_controller.ray.base import RayResourcePool, RayClassWithInitArgs, RayWorkerGroup\n",
    "from omegaconf import OmegaConf\n",
    "from megatron.core import parallel_state as mpu"
   ],
   "outputs": []
  },
  {
   "cell_type": "code",
   "execution_count": 173,
   "id": "1b1debcc",
   "metadata": {
    "tags": []
   },
   "source": [
    "resource_pool = RayResourcePool([4], use_gpu=True, max_colocate_count=1)"
   ],
   "outputs": []
  },
  {
   "cell_type": "code",
   "execution_count": 174,
   "id": "bccbe081",
   "metadata": {
    "tags": []
   },
   "source": [
    "@ray.remote\n",
    "class MLPLayerWorker(MegatronWorker):\n",
    "    def __init__(self):\n",
    "        super().__init__()\n",
    "        rank = int(os.environ['LOCAL_RANK'])\n",
    "        torch.distributed.init_process_group(backend=\"nccl\")\n",
    "        torch.cuda.set_device(rank)\n",
    "\n",
    "        mpu.initialize_model_parallel(\n",
    "                tensor_model_parallel_size=4,\n",
    "                pipeline_model_parallel_size=1,\n",
    "                virtual_pipeline_model_parallel_size=None,\n",
    "                pipeline_model_parallel_split_rank=None,\n",
    "                use_sharp=False,\n",
    "                context_parallel_size=1,\n",
    "                expert_model_parallel_size=1,\n",
    "                nccl_communicator_config_path=None,\n",
    "            )\n",
    "        from megatron.core import tensor_parallel\n",
    "        tensor_parallel.model_parallel_cuda_manual_seed(10)\n",
    "\n",
    "\n",
    "    @register(Dispatch.ONE_TO_ALL)\n",
    "    def init_model(self, config):\n",
    "        from omegaconf import OmegaConf\n",
    "        from verl.utils.megatron_utils import init_model_parallel_config\n",
    "        from verl.models.llama.megatron.layers import ParallelLlamaMLP\n",
    "        megatron_config = OmegaConf.create({\n",
    "            'sequence_parallel': False,\n",
    "            'param_dtype': 'fp32',\n",
    "            'tensor_model_parallel_size': mpu.get_tensor_model_parallel_world_size(),\n",
    "            'pipeline_model_parallel_rank': mpu.get_pipeline_model_parallel_rank(),\n",
    "            'pipeline_model_parallel_size': mpu.get_pipeline_model_parallel_world_size(),\n",
    "            'virtual_pipeline_model_parallel_rank': mpu.get_virtual_pipeline_model_parallel_rank(),\n",
    "            'virtual_pipeline_model_parallel_size': mpu.get_virtual_pipeline_model_parallel_world_size()\n",
    "        })\n",
    "\n",
    "        megatron_config = init_model_parallel_config(megatron_config)\n",
    "        self.parallel_layer = ParallelLlamaMLP(config=config, megatron_config=megatron_config)\n",
    "    \n",
    "    @register(Dispatch.ONE_TO_ALL)\n",
    "    def get_weights(self):\n",
    "        output = {}\n",
    "        for key, val in self.parallel_layer.named_parameters():\n",
    "            output[key] = val\n",
    "        return output\n",
    "    \n",
    "    @register(Dispatch.MEGATRON_COMPUTE)\n",
    "    def run_layer(self, x):\n",
    "        x = x.to('cuda')\n",
    "        y = self.parallel_layer(x)\n",
    "        return y"
   ],
   "outputs": []
  },
  {
   "cell_type": "code",
   "execution_count": 175,
   "id": "a655271d",
   "metadata": {
    "tags": []
   },
   "source": [
    "layer_cls = RayClassWithInitArgs(cls=MLPLayerWorker)\n",
    "layer_worker_group = NVMegatronRayWorkerGroup(resource_pool=resource_pool,\n",
    "                                            ray_cls_with_init=layer_cls,\n",
    "                                            )\n"
   ],
   "outputs": []
  },
  {
   "cell_type": "code",
   "execution_count": 176,
   "id": "f105ebee",
   "metadata": {
    "tags": []
   },
   "source": [
    "print(layer_worker_group.world_size, layer_worker_group.tp_size, layer_worker_group.pp_size, layer_worker_group.dp_size)"
   ],
   "outputs": []
  },
  {
   "cell_type": "code",
   "execution_count": 177,
   "id": "38655091",
   "metadata": {
    "tags": []
   },
   "source": [
    "ffn_hidden_size = 11008\n",
    "batch_size = 16\n",
    "seq_len = 2048\n",
    "hidden_size = 4096\n",
    "\n",
    "config = OmegaConf.create({\n",
    "    'hidden_size': hidden_size,\n",
    "    'intermediate_size': ffn_hidden_size,\n",
    "    'hidden_act': 'silu',\n",
    "    'pretraining_tp': 1,\n",
    "    'tp': layer_worker_group.tp_size,\n",
    "})"
   ],
   "outputs": []
  },
  {
   "cell_type": "code",
   "execution_count": 178,
   "id": "a026efca",
   "metadata": {
    "tags": []
   },
   "source": [
    "x = torch.rand(size=(seq_len, batch_size, hidden_size), dtype=torch.float32)"
   ],
   "outputs": []
  },
  {
   "cell_type": "code",
   "execution_count": 179,
   "id": "f5fcaf13",
   "metadata": {
    "tags": []
   },
   "source": [
    "layer_worker_group.init_model(config)"
   ],
   "outputs": []
  },
  {
   "cell_type": "code",
   "execution_count": 180,
   "id": "3f5cc9b4",
   "metadata": {
    "tags": []
   },
   "source": [
    "output = layer_worker_group.run_layer([x])  # This must be a list of size 1, ensuring that the input equals the data parallel (dp).\n",
    "print(output[0].shape)"
   ],
   "outputs": []
  },
  {
   "cell_type": "code",
   "execution_count": 181,
   "id": "49792210",
   "metadata": {
    "tags": []
   },
   "source": [
    "# Shutdown ray cluster\n",
    "ray.shutdown()"
   ],
   "outputs": []
  }
 ],
 "metadata": {
  "kernelspec": {
   "display_name": "Python 3 (ipykernel)",
   "language": "python",
   "name": "python3"
  },
  "language_info": {
   "codemirror_mode": {
    "name": "ipython",
    "version": 3
   },
   "file_extension": ".py",
   "mimetype": "text/x-python",
   "name": "python",
   "nbconvert_exporter": "python",
   "pygments_lexer": "ipython3",
   "version": "3.9.2"
  }
 },
 "nbformat": 4,
 "nbformat_minor": 5
}
